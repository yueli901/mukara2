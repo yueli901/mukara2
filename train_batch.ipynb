{
 "cells": [
  {
   "cell_type": "code",
   "execution_count": 1,
   "metadata": {},
   "outputs": [],
   "source": [
    "import os\n",
    "import subprocess\n",
    "from tqdm import tqdm\n",
    "\n",
    "# Read the template configuration\n",
    "def read_config_template(template_path):\n",
    "    with open(template_path, 'r') as file:\n",
    "        return file.readlines()\n",
    "\n",
    "# Modify the configuration\n",
    "def modify_config(template_lines, changes):\n",
    "    modified_lines = []\n",
    "    for line in template_lines:\n",
    "        for key, value in changes.items():\n",
    "            if key in line:\n",
    "                line = f\"{key}: {value},\\n\"\n",
    "        modified_lines.append(line)\n",
    "    return modified_lines\n",
    "\n",
    "# Write the modified configuration\n",
    "def write_config(output_path, modified_lines):\n",
    "    with open(output_path, 'w') as file:\n",
    "        file.writelines(modified_lines)\n",
    "\n",
    "# Automate training and log handling\n",
    "def automate_training(changes, log_name):\n",
    "    # Read and modify the config\n",
    "    template_lines = read_config_template(\"config_template.py\")\n",
    "    modified_lines = modify_config(template_lines, changes)\n",
    "    write_config(\"config.py\", modified_lines)\n",
    "\n",
    "    # Run the training script\n",
    "    print(f\"Starting training for {log_name}...\")\n",
    "    subprocess.run([\"python\", \"train.py\"], check=True)\n",
    "\n",
    "    # Rename the log file\n",
    "    log_path = os.path.join('eval/logs', 'training_log.log')\n",
    "    new_log_path = os.path.join('eval/logs', log_name)\n",
    "    if os.path.exists(log_path):\n",
    "        os.rename(log_path, new_log_path)\n",
    "        print(f\"Log file renamed to {new_log_path}\")\n",
    "    else:\n",
    "        print(f\"Log file not found for {log_name}. Check if training completed successfully.\")\n",
    "\n"
   ]
  },
  {
   "cell_type": "code",
   "execution_count": 11,
   "metadata": {},
   "outputs": [],
   "source": [
    "\n",
    "# Example list of models and changes\n",
    "models = [\n",
    "    {\"log_name\": \"default.log\", \"changes\": {}},\n",
    "    {\"log_name\": \"cnn-s.log\", \"changes\": {\"'channels'\": [8, 16, 32]}},\n",
    "    {\"log_name\": \"cnn-l.log\", \"changes\": {\"'channels'\": [32, 64, 128]}},\n",
    "    {\"log_name\": \"roi21.log\", \"changes\": {\"'roi_size'\": 21}},\n",
    "    {\"log_name\": \"roi31.log\", \"changes\": {\"'roi_size'\": 31}},\n",
    "    {\"log_name\": \"roi41.log\", \"changes\": {\"'roi_size'\": 41}},\n",
    "    {\"log_name\": \"gat_depth-6.log\", \"changes\": {\"'depth_gat'\": 6}},\n",
    "    {\"log_name\": \"gat_depth-7.log\", \"changes\": {\"'depth_gat'\": 7}},\n",
    "    {\"log_name\": \"gat_depth-8.log\", \"changes\": {\"'depth_gat'\": 8}},\n",
    "    {\"log_name\": \"gat_depth-4.log\", \"changes\": {\"'depth_gat'\": 4}},\n",
    "    {\"log_name\": \"gat_depth-3.log\", \"changes\": {\"'depth_gat'\": 3}},\n",
    "    {\"log_name\": \"gat_depth-2.log\", \"changes\": {\"'depth_gat'\": 2}},\n",
    "    {\"log_name\": \"gat_depth-1.log\", \"changes\": {\"'depth_gat'\": 1}},\n",
    "    {\"log_name\": \"gat_depth-0.log\", \"changes\": {\"'depth_gat'\": 0}},\n",
    "    {\"log_name\": \"num_heads-5.log\", \"changes\": {\"'num_heads'\": 5}},\n",
    "    {\"log_name\": \"num_heads-4.log\", \"changes\": {\"'num_heads'\": 4}},\n",
    "    {\"log_name\": \"num_heads-2.log\", \"changes\": {\"'num_heads'\": 2}},\n",
    "    {\"log_name\": \"num_heads-1.log\", \"changes\": {\"'num_heads'\": 1}},\n",
    "    {\"log_name\": \"8d.log\", \"changes\": {\"'hiddens'\": [8], \"'output'\": [8], \"'output_dense'\": 8, \"'input_gat'\": 8, \"'output_gat'\": 8}},\n",
    "    {\"log_name\": \"32d.log\", \"changes\": {\"'hiddens'\": [32], \"'output'\": [32], \"'output_dense'\": 32, \"'input_gat'\": 32, \"'output_gat'\": 32}},\n",
    "    {\"log_name\": \"64d.log\", \"changes\": {\"'hiddens'\": [64], \"'output'\": [64], \"'output_dense'\": 64, \"'input_gat'\": 64, \"'output_gat'\": 64}},\n",
    "    {\"log_name\": \"128d.log\", \"changes\": {\"'hiddens'\": [128], \"'output'\": [128], \"'output_dense'\": 128, \"'input_gat'\": 128, \"'output_gat'\": 128}},\n",
    "    {\"log_name\": \"c-pop_only.log\", \"changes\": {\"'employment'\": [], \"'landuse_poi'\": []}},\n",
    "    {\"log_name\": \"c-emp_only.log\", \"changes\": {\"'population'\": [], \"'landuse_poi'\": []}},\n",
    "    {\"log_name\": \"c-pop_emp_only.log\", \"changes\": {\"'landuse_poi'\": []}},\n",
    "    {\"log_name\": \"c-landuse_poi_only.log\", \"changes\": {\"'population'\": [], \"'employment'\": []}},\n",
    "    {\"log_name\": \"c-lv1strata.log\", \"changes\": {\"'population'\": list(range(8)), \"'employment'\": list(range(18,40)), \"'landuse_poi'\": []}},\n",
    "    {\"log_name\": \"c-lv2strata.log\", \"changes\": {\"'population'\": [0] + list(range(8,18)), \"'employment'\": [18] + list(range(40,94)), \"'landuse_poi'\": []}},\n",
    "    {\"log_name\": \"c-lv1strata+landusepoi.log\", \"changes\": {\"'population'\": list(range(8)), \"'employment'\": list(range(18,40))}},\n",
    "    {\"log_name\": \"c-lv2strata+landusepoi.log\", \"changes\": {\"'population'\": [0] + list(range(8,18)), \"'employment'\": [18] + list(range(40,94))}}\n",
    "]\n"
   ]
  },
  {
   "cell_type": "code",
   "execution_count": 2,
   "metadata": {},
   "outputs": [],
   "source": [
    "\n",
    "# Example list of models and changes\n",
    "models = [\n",
    "    # {\"log_name\": \"best-no-emp.log\", \"changes\": {\"'employment'\": [], \"'epoch'\": 26, \"'step'\":6}},\n",
    "    # {\"log_name\": \"best-no-pop.log\", \"changes\": {\"'population'\": [], \"'epoch'\": 21, \"'step'\":5}},\n",
    "    # {\"log_name\": \"best-no-land_use.log\", \"changes\": {\"'landuse_poi'\": list(range(4,12)), \"'epoch'\": 37, \"'step'\":7}},\n",
    "    # {\"log_name\": \"best-no-road_network.log\", \"changes\": {\"'landuse_poi'\": list(range(4))+list(range(7,12)), \"'epoch'\": 21, \"'step'\":2}},\n",
    "    # {\"log_name\": \"best-no-poi.log\", \"changes\": {\"'landuse_poi'\": list(range(7)), \"'epoch'\": 29, \"'step'\":5}},\n",
    "    # {\"log_name\": \"best-no-edge_features.log\", \"changes\": {\"'model'\": \"'model_no_edge_features'\", \"'epoch'\": 42, \"'step'\":1}},\n",
    "    # {\"log_name\": \"c-pop_only2.log\", \"changes\": {\"'employment'\": [], \"'landuse_poi'\": []}},\n",
    "    # {\"log_name\": \"c-emp_only2.log\", \"changes\": {\"'population'\": [], \"'landuse_poi'\": []}},\n",
    "    # {\"log_name\": \"c-pop_emp_only2.log\", \"changes\": {\"'landuse_poi'\": []}},\n",
    "    {\"log_name\": \"c-poplv1.log\", \"changes\": {\"'population'\": list(range(1,8)), \"'employment'\": [], \"'landuse_poi'\": []}},\n",
    "    # {\"log_name\": \"c-poplv2.log\", \"changes\": {\"'population'\": list(range(8,18)), \"'employment'\": [], \"'landuse_poi'\": []}},\n",
    "    {\"log_name\": \"c-emplv1.log\", \"changes\": {\"'population'\": [], \"'employment'\": list(range(19,40)), \"'landuse_poi'\": []}},\n",
    "    # {\"log_name\": \"c-emplv2.log\", \"changes\": {\"'population'\": [], \"'employment'\": list(range(40,94)), \"'landuse_poi'\": []}},\n",
    "    {\"log_name\": \"c-pop-emp-lv1.log\", \"changes\": {\"'population'\": list(range(1,8)), \"'employment'\": list(range(19,40)), \"'landuse_poi'\": []}},\n",
    "    # {\"log_name\": \"c-pop-emp-lv2.log\", \"changes\": {\"'population'\": list(range(8,18)), \"'employment'\": list(range(40,94)), \"'landuse_poi'\": []}},\n",
    "]\n"
   ]
  },
  {
   "cell_type": "code",
   "execution_count": 3,
   "metadata": {},
   "outputs": [
    {
     "name": "stderr",
     "output_type": "stream",
     "text": [
      "Training Models:   0%|          | 0/3 [00:00<?, ?it/s]"
     ]
    },
    {
     "name": "stdout",
     "output_type": "stream",
     "text": [
      "Starting training for c-poplv1.log...\n"
     ]
    },
    {
     "name": "stderr",
     "output_type": "stream",
     "text": [
      "Training Models:  33%|███▎      | 1/3 [1:34:13<3:08:27, 5653.99s/it]"
     ]
    },
    {
     "name": "stdout",
     "output_type": "stream",
     "text": [
      "Log file renamed to eval/logs\\c-poplv1.log\n",
      "Starting training for c-emplv1.log...\n"
     ]
    },
    {
     "name": "stderr",
     "output_type": "stream",
     "text": [
      "Training Models:  67%|██████▋   | 2/3 [3:10:19<1:35:19, 5719.39s/it]"
     ]
    },
    {
     "name": "stdout",
     "output_type": "stream",
     "text": [
      "Log file renamed to eval/logs\\c-emplv1.log\n",
      "Starting training for c-pop-emp-lv1.log...\n"
     ]
    },
    {
     "name": "stderr",
     "output_type": "stream",
     "text": [
      "Training Models: 100%|██████████| 3/3 [4:47:22<00:00, 5747.36s/it]  "
     ]
    },
    {
     "name": "stdout",
     "output_type": "stream",
     "text": [
      "Log file renamed to eval/logs\\c-pop-emp-lv1.log\n"
     ]
    },
    {
     "name": "stderr",
     "output_type": "stream",
     "text": [
      "\n"
     ]
    }
   ],
   "source": [
    "\n",
    "for model in tqdm(models, desc=\"Training Models\"):\n",
    "    log_name = model[\"log_name\"]\n",
    "    changes = model[\"changes\"]\n",
    "    automate_training(changes, log_name)"
   ]
  },
  {
   "cell_type": "code",
   "execution_count": 22,
   "metadata": {},
   "outputs": [
    {
     "name": "stdout",
     "output_type": "stream",
     "text": [
      "Log: best-no-emp.log, Min Valid GEH: 50.02, Min Valid MAE: 8627.86\n",
      "Log: best-no-pop.log, Min Valid GEH: 52.05, Min Valid MAE: 9337.73\n",
      "Log: best-no-land_use.log, Min Valid GEH: 55.05, Min Valid MAE: 9597.14\n",
      "Log: best-no-road_network.log, Min Valid GEH: 51.74, Min Valid MAE: 9081.86\n",
      "Log: best-no-poi.log, Min Valid GEH: 53.17, Min Valid MAE: 9085.83\n",
      "Log: best-no-edge_features.log, Min Valid GEH: 52.8, Min Valid MAE: 9312.38\n"
     ]
    },
    {
     "name": "stderr",
     "output_type": "stream",
     "text": [
      "C:\\Users\\yueli\\AppData\\Local\\Temp\\ipykernel_27500\\2477218797.py:15: FutureWarning: The behavior of DataFrame concatenation with empty or all-NA entries is deprecated. In a future version, this will no longer exclude empty or all-NA columns when determining the result dtypes. To retain the old behavior, exclude the relevant entries before the concat operation.\n",
      "  results_df = pd.concat([results_df, pd.DataFrame([{\n"
     ]
    }
   ],
   "source": [
    "from eval.evaluate_log import extract_metrics\n",
    "import pandas as pd\n",
    "import os\n",
    "\n",
    "def update_results_csv(results_csv, log_name, min_valid_geh, min_valid_mae, changes, min_valid_geh_epoch, min_valid_geh_step):\n",
    "    # Check if results CSV exists\n",
    "    if os.path.exists(results_csv):\n",
    "        results_df = pd.read_csv(results_csv)\n",
    "    else:\n",
    "        # Initialize with relevant columns\n",
    "        results_df = pd.DataFrame(columns=[\"log_name\", \"min_valid_geh\", \"min_valid_mae\", \"changes\", \"min_valid_geh_epoch\", \"min_valid_geh_step\"])\n",
    "    \n",
    "    # Add or update model results\n",
    "    results_df = results_df[results_df['log_name'] != log_name]\n",
    "    results_df = pd.concat([results_df, pd.DataFrame([{\n",
    "        \"log_name\": log_name,\n",
    "        \"min_valid_geh\": min_valid_geh,\n",
    "        \"min_valid_mae\": min_valid_mae,\n",
    "        \"changes\": str(changes),\n",
    "        \"min_valid_geh_epoch\": min_valid_geh_epoch,\n",
    "        \"min_valid_geh_step\": min_valid_geh_step  # Store changes as a string for reference\n",
    "    }])], ignore_index=True)\n",
    "\n",
    "    # Save to CSV\n",
    "    results_df.to_csv(results_csv, index=False)\n",
    "\n",
    "# Path to results CSV\n",
    "results_csv = \"validation_results.csv\"\n",
    "\n",
    "# Loop through each model in the dictionary\n",
    "for model in models:\n",
    "    log_name = model[\"log_name\"]\n",
    "    changes = model[\"changes\"]\n",
    "\n",
    "    if os.path.exists(\"eval/logs/\"+log_name):  # Assuming log is named correctly during the run\n",
    "        df = extract_metrics(\"eval/logs/\"+log_name)\n",
    "        # df = df[df['step'] == 7] # only for complete epoch\n",
    "        min_valid_geh = df['valid_geh'].min()\n",
    "        min_valid_mae = df['valid_mae'].min()\n",
    "        min_valid_geh_epoch = df.loc[df['valid_geh'].idxmin(), 'epoch']\n",
    "        min_valid_geh_step = df.loc[df['valid_geh'].idxmin(), 'step']\n",
    "        print(f\"Log: {log_name}, Min Valid GEH: {min_valid_geh}, Min Valid MAE: {min_valid_mae}\")\n",
    "\n",
    "        # Update results CSV\n",
    "        update_results_csv(results_csv, log_name, min_valid_geh, min_valid_mae, changes, min_valid_geh_epoch, min_valid_geh_step)\n",
    "    else:\n",
    "        print(f\"Log file {log_name} not found. Make sure the training has generated the log.\")"
   ]
  },
  {
   "cell_type": "code",
   "execution_count": null,
   "metadata": {},
   "outputs": [],
   "source": []
  }
 ],
 "metadata": {
  "kernelspec": {
   "display_name": "myenv",
   "language": "python",
   "name": "python3"
  },
  "language_info": {
   "codemirror_mode": {
    "name": "ipython",
    "version": 3
   },
   "file_extension": ".py",
   "mimetype": "text/x-python",
   "name": "python",
   "nbconvert_exporter": "python",
   "pygments_lexer": "ipython3",
   "version": "3.10.13"
  }
 },
 "nbformat": 4,
 "nbformat_minor": 2
}
